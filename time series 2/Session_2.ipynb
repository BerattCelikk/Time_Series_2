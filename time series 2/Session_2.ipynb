{
 "cells": [
  {
   "cell_type": "markdown",
   "id": "36555652-2be5-44e7-893b-dea2a478a7c8",
   "metadata": {},
   "source": [
    "### 2.1 Load and Explore Time Series Data\n",
    "\n",
    "- Load Time Series Data ('daily-total-female-births.csv')\n",
    "- Explore the data--first 10 observations, size..\n",
    "- Query your data by time"
   ]
  },
  {
   "cell_type": "code",
   "execution_count": 4,
   "id": "9db6f21e-218c-4c0e-b7bf-42e328b2df72",
   "metadata": {},
   "outputs": [
    {
     "name": "stdout",
     "output_type": "stream",
     "text": [
      "        Date  Births\n",
      "0 1959-01-01      35\n",
      "1 1959-01-02      32\n",
      "2 1959-01-03      30\n",
      "3 1959-01-04      31\n",
      "4 1959-01-05      44\n",
      "5 1959-01-06      29\n",
      "6 1959-01-07      45\n",
      "7 1959-01-08      43\n",
      "8 1959-01-09      38\n",
      "9 1959-01-10      27\n",
      "\n",
      "Size of the dataset: (365, 2)\n"
     ]
    }
   ],
   "source": [
    "import pandas as pd\n",
    "data=pd.read_csv(\"daily-total-female-births.csv\",parse_dates=[\"Date\"])\n",
    "print(data.head(10))\n",
    "\n",
    "print(\"\\nSize of the dataset:\",data.shape)\n",
    "\n",
    "data.set_index(\"Date\",inplace=True)"
   ]
  },
  {
   "cell_type": "markdown",
   "id": "8345c1f2-38d1-4272-bd8b-fad42d97d7f4",
   "metadata": {},
   "source": [
    "### 2.2 Date-Time Features\n",
    "- Date Time Features: these are components of the time step itself for each observation.\n",
    "- Lag Features: these are values at prior time steps.\n",
    "- Window Features: these are a summary of values over a fixed window of prior time steps.\n",
    "\n",
    "- Use the dataset: 'daily-minimum-temperatures.csv'\n",
    "\n",
    "- Practice on datetime and rolling function using \"apple.csv\" dataset\n"
   ]
  },
  {
   "cell_type": "markdown",
   "id": "4ded75ba-d621-4e92-8123-087f71b6a700",
   "metadata": {},
   "source": [
    "** Exercise from https://www.geeksforgeeks.org/python-pandas-dataframe-rolling/"
   ]
  },
  {
   "cell_type": "markdown",
   "id": "1024871d-d035-411e-8a1b-32fd2d8dc8af",
   "metadata": {},
   "source": [
    "Pandas dataframe.rolling() function provides the feature of rolling window calculations. The concept of rolling window calculation is most primarily used in signal processing and time-series data. In very simple words we take a window size of k at a time and perform some desired mathematical operation on it. A window of size k means k consecutive values at a time. In a very simple case, all the ‘k’ values are equally weighted."
   ]
  },
  {
   "cell_type": "code",
   "execution_count": 6,
   "id": "e8ccef73-cde8-469e-80b8-2d7bd5297141",
   "metadata": {},
   "outputs": [
    {
     "name": "stdout",
     "output_type": "stream",
     "text": [
      "Date-Time Features:\n",
      "        Date  Temp  Year  Month  Day\n",
      "0 1981-01-01  20.7  1981      1    1\n",
      "1 1981-01-02  17.9  1981      1    2\n",
      "2 1981-01-03  18.8  1981      1    3\n",
      "3 1981-01-04  14.6  1981      1    4\n",
      "4 1981-01-05  15.8  1981      1    5\n",
      "\n",
      "With Lag and Rolling Features:\n",
      "        Date  Temp  Year  Month  Day  Temp_Lag_1  Temp_Rolling_Mean_3\n",
      "0 1981-01-01  20.7  1981      1    1         NaN                  NaN\n",
      "1 1981-01-02  17.9  1981      1    2        20.7                  NaN\n",
      "2 1981-01-03  18.8  1981      1    3        17.9            19.133333\n",
      "3 1981-01-04  14.6  1981      1    4        18.8            17.100000\n",
      "4 1981-01-05  15.8  1981      1    5        14.6            16.400000\n",
      "5 1981-01-06  15.8  1981      1    6        15.8            15.400000\n",
      "6 1981-01-07  15.8  1981      1    7        15.8            15.800000\n",
      "7 1981-01-08  17.4  1981      1    8        15.8            16.333333\n",
      "8 1981-01-09  21.8  1981      1    9        17.4            18.333333\n",
      "9 1981-01-10  20.0  1981      1   10        21.8            19.733333\n"
     ]
    }
   ],
   "source": [
    "import pandas as pd\n",
    "\n",
    "# Veriyi yükleyin ve 'Date' sütununu tarih formatına çevirin\n",
    "temperature_data = pd.read_csv(\"daily-minimum-temperatures.csv\", parse_dates=[\"Date\"])\n",
    "\n",
    "# 'Date' sütunundan yıl, ay ve gün özelliklerini çıkartın\n",
    "temperature_data[\"Year\"] = temperature_data[\"Date\"].dt.year\n",
    "temperature_data[\"Month\"] = temperature_data[\"Date\"].dt.month\n",
    "temperature_data[\"Day\"] = temperature_data[\"Date\"].dt.day\n",
    "\n",
    "print(\"Date-Time Features:\")\n",
    "print(temperature_data.head())\n",
    "\n",
    "# Lag Feature (Bir gün önceki sıcaklık)\n",
    "temperature_data[\"Temp_Lag_1\"] = temperature_data[\"Temp\"].shift(1)\n",
    "\n",
    "# Window Feature (Son 3 günün ortalama sıcaklığı)\n",
    "temperature_data[\"Temp_Rolling_Mean_3\"] = temperature_data[\"Temp\"].rolling(window=3).mean()\n",
    "\n",
    "print(\"\\nWith Lag and Rolling Features:\")\n",
    "print(temperature_data.head(10))\n"
   ]
  },
  {
   "cell_type": "markdown",
   "id": "e4768633-6645-46e4-a141-66e83c0c7330",
   "metadata": {},
   "source": [
    "### 2.3 Resampling and Interpolation\n",
    "- Upsampling: Where you increase the frequency of the samples, such as from minutes to seconds.\n",
    "- Downsampling: Where you decrease the frequency of the samples, such as from days to months.\n",
    "- use the dataset: 'shampoo-sales.csv'"
   ]
  },
  {
   "cell_type": "code",
   "execution_count": null,
   "id": "63089913-acee-45f3-8401-3356c3434f0d",
   "metadata": {},
   "outputs": [
    {
     "name": "stdout",
     "output_type": "stream",
     "text": [
      "Original Data:\n",
      "            Sales\n",
      "Month            \n",
      "1901-01-01  266.0\n",
      "1901-01-02  145.9\n",
      "1901-01-03  183.1\n",
      "1901-01-04  119.3\n",
      "1901-01-05  180.3\n",
      "\n",
      "Daily Data (After Upsampling):\n",
      "            Sales\n",
      "Month            \n",
      "1901-01-01  266.0\n",
      "1901-01-02  145.9\n",
      "1901-01-03  183.1\n",
      "1901-01-04  119.3\n",
      "1901-01-05  180.3\n",
      "1901-01-06  168.5\n",
      "1901-01-07  231.8\n",
      "1901-01-08  224.5\n",
      "1901-01-09  192.8\n",
      "1901-01-10  122.9\n",
      "\n",
      "Daily Data with Interpolation:\n",
      "            Sales\n",
      "Month            \n",
      "1901-01-01  266.0\n",
      "1901-01-02  145.9\n",
      "1901-01-03  183.1\n",
      "1901-01-04  119.3\n",
      "1901-01-05  180.3\n",
      "1901-01-06  168.5\n",
      "1901-01-07  231.8\n",
      "1901-01-08  224.5\n",
      "1901-01-09  192.8\n",
      "1901-01-10  122.9\n",
      "\n",
      "Monthly Total Sales Data (After Downsampling):\n",
      "             Sales\n",
      "Month             \n",
      "1901-01-31  2357.5\n",
      "1901-02-28  3153.5\n",
      "1901-03-31  5742.6\n"
     ]
    },
    {
     "name": "stderr",
     "output_type": "stream",
     "text": [
     ]
    }
   ],
   "source": [
    "import pandas as pd\n",
    "\n",
    "# Load the dataset and assume the year 1901 to parse dates correctly\n",
    "shampoo_data = pd.read_csv(\"shampoo-sales.csv\")\n",
    "shampoo_data[\"Month\"] = \"1901-\" + shampoo_data[\"Month\"]  \n",
    "shampoo_data[\"Month\"] = pd.to_datetime(shampoo_data[\"Month\"], format=\"%Y-%m-%d\")\n",
    "shampoo_data.set_index(\"Month\", inplace=True)\n",
    "\n",
    "# Display the first few rows of the original data\n",
    "print(\"Original Data:\")\n",
    "print(shampoo_data.head())\n",
    "\n",
    "# Upsampling: Resample the data to daily frequency\n",
    "daily_data = shampoo_data.resample(\"D\").asfreq()\n",
    "print(\"\\nDaily Data (After Upsampling):\")\n",
    "print(daily_data.head(10))\n",
    "\n",
    "# Interpolation: Fill missing values after upsampling using linear interpolation\n",
    "daily_data_interpolated = daily_data.interpolate(method='linear')\n",
    "print(\"\\nDaily Data with Interpolation:\")\n",
    "print(daily_data_interpolated.head(10))\n",
    "\n",
    "# Downsampling: Resample the data to monthly frequency and calculate monthly sums\n",
    "monthly_data = shampoo_data.resample(\"M\").sum()\n",
    "print(\"\\nMonthly Total Sales Data (After Downsampling):\")\n",
    "print(monthly_data.head())\n"
   ]
  },
  {
   "cell_type": "markdown",
   "id": "cf89758d-756a-40b1-ba43-07356c3710f8",
   "metadata": {},
   "source": [
    "### 2.4 Moving Average Smoothing\n",
    "- Centered Moving Average\n",
    "- Trailing Moving Average\n",
    "- Use the dataset: 'daily-total-female-births.csv'\n"
   ]
  },
  {
   "cell_type": "code",
   "execution_count": 12,
   "id": "96581519-0907-459b-9aea-bf3e0e572b65",
   "metadata": {},
   "outputs": [
    {
     "name": "stdout",
     "output_type": "stream",
     "text": [
      "Original Data:\n",
      "            Births\n",
      "Date              \n",
      "1959-01-01      35\n",
      "1959-01-02      32\n",
      "1959-01-03      30\n",
      "1959-01-04      31\n",
      "1959-01-05      44\n",
      "\n",
      "Centered Moving Average (7-day window):\n",
      "            Births  Centered_MA\n",
      "Date                           \n",
      "1959-01-01      35          NaN\n",
      "1959-01-02      32          NaN\n",
      "1959-01-03      30          NaN\n",
      "1959-01-04      31    35.142857\n",
      "1959-01-05      44    36.285714\n",
      "1959-01-06      29    37.142857\n",
      "1959-01-07      45    36.714286\n",
      "1959-01-08      43    37.714286\n",
      "1959-01-09      38    36.142857\n",
      "1959-01-10      27    39.857143\n",
      "\n",
      "Trailing Moving Average (7-day window):\n",
      "            Births  Trailing_MA\n",
      "Date                           \n",
      "1959-01-01      35          NaN\n",
      "1959-01-02      32          NaN\n",
      "1959-01-03      30          NaN\n",
      "1959-01-04      31          NaN\n",
      "1959-01-05      44          NaN\n",
      "1959-01-06      29          NaN\n",
      "1959-01-07      45    35.142857\n",
      "1959-01-08      43    36.285714\n",
      "1959-01-09      38    37.142857\n",
      "1959-01-10      27    36.714286\n"
     ]
    }
   ],
   "source": [
    "import pandas as pd\n",
    "\n",
    "# Load the dataset and parse 'Date' column as date\n",
    "birth_data = pd.read_csv(\"daily-total-female-births.csv\", parse_dates=[\"Date\"])\n",
    "\n",
    "# Set 'Date' as the index\n",
    "birth_data.set_index(\"Date\", inplace=True)\n",
    "\n",
    "# Display original data\n",
    "print(\"Original Data:\")\n",
    "print(birth_data.head())\n",
    "\n",
    "# Centered Moving Average: 7-day window centered on each point\n",
    "birth_data[\"Centered_MA\"] = birth_data[\"Births\"].rolling(window=7, center=True).mean()\n",
    "print(\"\\nCentered Moving Average (7-day window):\")\n",
    "print(birth_data[[\"Births\", \"Centered_MA\"]].head(10))\n",
    "\n",
    "# Trailing Moving Average: 7-day trailing window\n",
    "birth_data[\"Trailing_MA\"] = birth_data[\"Births\"].rolling(window=7).mean()\n",
    "print(\"\\nTrailing Moving Average (7-day window):\")\n",
    "print(birth_data[[\"Births\", \"Trailing_MA\"]].head(10))\n"
   ]
  }
 ],
 "metadata": {
  "kernelspec": {
   "display_name": "base",
   "language": "python",
   "name": "python3"
  },
  "language_info": {
   "codemirror_mode": {
    "name": "ipython",
    "version": 3
   },
   "file_extension": ".py",
   "mimetype": "text/x-python",
   "name": "python",
   "nbconvert_exporter": "python",
   "pygments_lexer": "ipython3",
   "version": "3.12.4"
  }
 },
 "nbformat": 4,
 "nbformat_minor": 5
}
